{
 "cells": [
  {
   "cell_type": "markdown",
   "metadata": {},
   "source": [
    "# Aula o5- Introdução ao List Comprehension e Format"
   ]
  },
  {
   "cell_type": "markdown",
   "metadata": {},
   "source": [
    "> Nessa aula iremos dar introdução ao List Comprehension, uma forma mais simples de realizar conversões de valores entre duas ou mais listas. Atualmente é uma das formas mais rápidas de aplicar conversões, substituindo as declarações, subistituindo as declarações mais extensas do que o metodo conversional, labda e o map."
   ]
  },
  {
   "cell_type": "markdown",
   "metadata": {},
   "source": [
    "### Exemplo 1: Conversão de Celsius para Fahrenheit"
   ]
  },
  {
   "cell_type": "code",
   "execution_count": 102,
   "metadata": {},
   "outputs": [
    {
     "name": "stdout",
     "output_type": "stream",
     "text": [
      "[50.0, 68.0, 75.2, 95.0, 122.0]\n"
     ]
    }
   ],
   "source": [
    "celsius = [10,20,24,35,50]\n",
    "fahrenheit = [round(x*1.8+32,2) for x in celsius]\n",
    "print(fahrenheit)"
   ]
  },
  {
   "cell_type": "code",
   "execution_count": 103,
   "metadata": {},
   "outputs": [
    {
     "name": "stdout",
     "output_type": "stream",
     "text": [
      "celsius  fahrenheit\n",
      "===================\n",
      "10       50.0  \n",
      "20       68.0  \n",
      "24       75.2  \n",
      "35       95.0  \n",
      "50       122.0 \n"
     ]
    }
   ],
   "source": [
    "print(\"{:<8} {:<6}\".format(\"celsius\", \"fahrenheit\"))\n",
    "print(\"===================\")\n",
    "x = 0 \n",
    "while(x<len(celsius)) :\n",
    "    print(\"{:<8} {:<6}\".format(celsius[x] , fahrenheit[x]))\n",
    "    x +=1"
   ]
  },
  {
   "cell_type": "markdown",
   "metadata": {},
   "source": [
    "### Exemplo 2: Conversão de Km/h para M/h"
   ]
  },
  {
   "cell_type": "code",
   "execution_count": null,
   "metadata": {},
   "outputs": [],
   "source": []
  },
  {
   "cell_type": "markdown",
   "metadata": {},
   "source": [
    "## Exercício 1:\n",
    "> Crie uma lista com 10 valores em metros. Crie uma tabela de conversão par polegadas, pés, jardas e mílhas marítimas. Listando o número da linha e do cabeçalho da tabela."
   ]
  },
  {
   "cell_type": "code",
   "execution_count": 137,
   "metadata": {},
   "outputs": [
    {
     "name": "stdout",
     "output_type": "stream",
     "text": [
      "n°   metros    polegadas   pes       jardas    maritimas \n",
      "-----------------------------------------------------------\n",
      "1    10        393.7       32.81     10.94     0.01      \n",
      "2    20        787.4       65.62     21.87     0.01      \n",
      "3    30        1181.1      98.43     32.81     0.02      \n",
      "4    40        1574.8      131.23    43.74     0.02      \n",
      "5    50        1968.51     164.04    54.68     0.03      \n",
      "6    60        2362.21     196.85    65.62     0.03      \n",
      "7    70        2755.91     229.66    76.55     0.04      \n",
      "8    80        3149.61     262.47    87.49     0.04      \n",
      "9    90        3543.31     295.28    98.42     0.05      \n",
      "10   100       3937.01     328.08    109.36    0.05      \n"
     ]
    }
   ],
   "source": [
    "metros = [10,20,30,40,50,60,70,80,90,100]\n",
    "polegadas = [round(x*39.3701,2) for x in metros]\n",
    "pes = [round(x*3.280841,2) for x in metros]\n",
    "jardas = [round(x*1.09361,2) for x in metros]\n",
    "maritimas = [round(x*0.000539957,2) for x in metros]\n",
    "\n",
    "\n",
    "print(\"{:<4} {:<9} {:<11} {:<9} {:<10}{:<10}\".format(\"n°\", \"metros\", \"polegadas\", \"pes\", \"jardas\", \"maritimas\"))\n",
    "print(\"-----------------------------------------------------------\")\n",
    "for v in range(0,len(metros),1):\n",
    "    print(\"{:<5}{:<10}{:<12}{:<10}{:<10}{:<10}\".format(v+1,metros[v],polegadas[v],pes[v],jardas[v],maritimas[v]))"
   ]
  },
  {
   "cell_type": "markdown",
   "metadata": {},
   "source": [
    "## Exercício 2:\n",
    "> Crie uma lista com 10 valores em Kelvin. Crie uma tabela de conversão para Celsius e Farenheit, listando o número da linha e o cabeçalho da tabela."
   ]
  },
  {
   "cell_type": "code",
   "execution_count": 149,
   "metadata": {},
   "outputs": [
    {
     "name": "stdout",
     "output_type": "stream",
     "text": [
      "n°    kelvin   celsius     fahrenheit\n",
      "--------------------------------------\n",
      "1     5         -1361      -2289.35  \n",
      "2     10        -2722      -4578.7   \n",
      "3     15        -4082      -6868.05  \n",
      "4     20        -5443      -9157.4   \n",
      "5     25        -6804      -11446.75 \n",
      "6     30        -8164      -13736.1  \n",
      "7     35        -9525      -16025.45 \n",
      "8     40        -10886     -18314.8  \n",
      "9     45        -12247     -20604.15 \n",
      "10    50        -13607     -22893.5  \n"
     ]
    }
   ],
   "source": [
    "kelvin = [5,10,15,20,25,30,35,40,45,50]\n",
    "celsius = [round(x*-272.15) for x in kelvin]\n",
    "fahrenheit = [round(x*-457.87,2) for x in kelvin]\n",
    "\n",
    "print(\"{:<5} {:<8} {:<11} {:<7}\".format(\"n°\",\"kelvin\", \"celsius\", \"fahrenheit\"))\n",
    "print(\"--------------------------------------\")\n",
    "for v in range(0,len(kelvin),1):\n",
    "    print(\"{:<5} {:<9} {:<10} {:<10}\".format(v+1,kelvin[v],celsius[v],fahrenheit[v]))\n",
    "    "
   ]
  }
 ],
 "metadata": {
  "kernelspec": {
   "display_name": "Python 3",
   "language": "python",
   "name": "python3"
  },
  "language_info": {
   "codemirror_mode": {
    "name": "ipython",
    "version": 3
   },
   "file_extension": ".py",
   "mimetype": "text/x-python",
   "name": "python",
   "nbconvert_exporter": "python",
   "pygments_lexer": "ipython3",
   "version": "3.12.2"
  }
 },
 "nbformat": 4,
 "nbformat_minor": 2
}
