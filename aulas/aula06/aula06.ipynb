{
 "cells": [
  {
   "cell_type": "markdown",
   "metadata": {},
   "source": [
    "# Introdução a Tuplas e Dicionários"
   ]
  },
  {
   "cell_type": "code",
   "execution_count": 47,
   "metadata": {},
   "outputs": [
    {
     "name": "stdout",
     "output_type": "stream",
     "text": [
      "[2, 5, 9]\n"
     ]
    }
   ],
   "source": [
    "lista = [2,5,9]\n",
    "lista[1]\n",
    "print(lista)"
   ]
  },
  {
   "cell_type": "markdown",
   "metadata": {},
   "source": [
    "## Intrudução a Tuplas\n",
    "> não consegue alterar os dados"
   ]
  },
  {
   "cell_type": "code",
   "execution_count": 48,
   "metadata": {},
   "outputs": [
    {
     "data": {
      "text/plain": [
       "8"
      ]
     },
     "execution_count": 48,
     "metadata": {},
     "output_type": "execute_result"
    }
   ],
   "source": [
    "tupla = (6,8,9)\n",
    "tupla[1]"
   ]
  },
  {
   "cell_type": "code",
   "execution_count": 49,
   "metadata": {},
   "outputs": [
    {
     "name": "stdout",
     "output_type": "stream",
     "text": [
      "[2, 5, 9, 7]\n"
     ]
    }
   ],
   "source": [
    "lista.append(7)\n",
    "print(lista)"
   ]
  },
  {
   "cell_type": "code",
   "execution_count": 50,
   "metadata": {},
   "outputs": [
    {
     "ename": "TypeError",
     "evalue": "can only concatenate tuple (not \"int\") to tuple",
     "output_type": "error",
     "traceback": [
      "\u001b[1;31m---------------------------------------------------------------------------\u001b[0m",
      "\u001b[1;31mTypeError\u001b[0m                                 Traceback (most recent call last)",
      "Cell \u001b[1;32mIn[50], line 2\u001b[0m\n\u001b[0;32m      1\u001b[0m tupla \u001b[38;5;241m=\u001b[39m (\u001b[38;5;241m1\u001b[39m,\u001b[38;5;241m5\u001b[39m,\u001b[38;5;241m8\u001b[39m)\n\u001b[1;32m----> 2\u001b[0m tupla \u001b[38;5;241m=\u001b[39m \u001b[43mtupla\u001b[49m\u001b[43m \u001b[49m\u001b[38;5;241;43m+\u001b[39;49m\u001b[43m \u001b[49m\u001b[38;5;241;43m1\u001b[39;49m\n\u001b[0;32m      3\u001b[0m tupla[\u001b[38;5;241m1\u001b[39m]\n",
      "\u001b[1;31mTypeError\u001b[0m: can only concatenate tuple (not \"int\") to tuple"
     ]
    }
   ],
   "source": [
    "tupla = (1,5,8)\n",
    "tupla = tupla + 1\n",
    "tupla[1]"
   ]
  },
  {
   "cell_type": "code",
   "execution_count": 16,
   "metadata": {},
   "outputs": [
    {
     "ename": "TypeError",
     "evalue": "'tuple' object does not support item assignment",
     "output_type": "error",
     "traceback": [
      "\u001b[1;31m---------------------------------------------------------------------------\u001b[0m",
      "\u001b[1;31mTypeError\u001b[0m                                 Traceback (most recent call last)",
      "Cell \u001b[1;32mIn[16], line 1\u001b[0m\n\u001b[1;32m----> 1\u001b[0m \u001b[43mtupla\u001b[49m\u001b[43m[\u001b[49m\u001b[38;5;241;43m1\u001b[39;49m\u001b[43m]\u001b[49m \u001b[38;5;241m=\u001b[39m \u001b[38;5;241m7\u001b[39m\n",
      "\u001b[1;31mTypeError\u001b[0m: 'tuple' object does not support item assignment"
     ]
    }
   ],
   "source": [
    "tupla[1] = 7"
   ]
  },
  {
   "cell_type": "markdown",
   "metadata": {},
   "source": [
    "## Introdução a Dicionários\n",
    "> podem ser alterados"
   ]
  },
  {
   "cell_type": "code",
   "execution_count": 28,
   "metadata": {},
   "outputs": [],
   "source": [
    "dicionario = {\n",
    "    'curso': 'desenvolvimento de sistemas',\n",
    "    'ano': 2024,\n",
    "    'modulo': 'tecnicas de progamação e algoritmos',\n",
    "    'professsor': 'gustavo'\n",
    "}"
   ]
  },
  {
   "cell_type": "code",
   "execution_count": 45,
   "metadata": {},
   "outputs": [
    {
     "ename": "KeyError",
     "evalue": "'curso'",
     "output_type": "error",
     "traceback": [
      "\u001b[1;31m---------------------------------------------------------------------------\u001b[0m",
      "\u001b[1;31mKeyError\u001b[0m                                  Traceback (most recent call last)",
      "Cell \u001b[1;32mIn[45], line 1\u001b[0m\n\u001b[1;32m----> 1\u001b[0m \u001b[38;5;28mprint\u001b[39m(\u001b[43mdicionario\u001b[49m\u001b[43m[\u001b[49m\u001b[38;5;124;43m'\u001b[39;49m\u001b[38;5;124;43mcurso\u001b[39;49m\u001b[38;5;124;43m'\u001b[39;49m\u001b[43m]\u001b[49m)\n\u001b[0;32m      2\u001b[0m \u001b[38;5;28mprint\u001b[39m(dicionario[\u001b[38;5;124m'\u001b[39m\u001b[38;5;124mano\u001b[39m\u001b[38;5;124m'\u001b[39m])\n\u001b[0;32m      3\u001b[0m \u001b[38;5;28mprint\u001b[39m(dicionario[\u001b[38;5;124m'\u001b[39m\u001b[38;5;124mmodulo\u001b[39m\u001b[38;5;124m'\u001b[39m])\n",
      "\u001b[1;31mKeyError\u001b[0m: 'curso'"
     ]
    }
   ],
   "source": [
    "print(dicionario['curso'])\n",
    "print(dicionario['ano'])\n",
    "print(dicionario['modulo'])\n",
    "print(dicionario['professor'])"
   ]
  },
  {
   "cell_type": "code",
   "execution_count": 33,
   "metadata": {},
   "outputs": [
    {
     "name": "stdout",
     "output_type": "stream",
     "text": [
      "9.5\n"
     ]
    }
   ],
   "source": [
    "dicionario['nota'] = 9.5\n",
    "print(dicionario['nota'])"
   ]
  },
  {
   "cell_type": "code",
   "execution_count": 36,
   "metadata": {},
   "outputs": [
    {
     "name": "stdout",
     "output_type": "stream",
     "text": [
      "curso\n",
      "ano\n",
      "modulo\n",
      "professsor\n",
      "nota\n"
     ]
    }
   ],
   "source": [
    "for x in dicionario.keys():\n",
    "    print(x)"
   ]
  },
  {
   "cell_type": "code",
   "execution_count": 35,
   "metadata": {},
   "outputs": [
    {
     "name": "stdout",
     "output_type": "stream",
     "text": [
      "dict_keys(['curso', 'ano', 'modulo', 'professsor', 'nota'])\n",
      "dict_values(['desenvolvimento de sistemas', 2024, 'tecnicas de progamação e algoritmos', 'gustavo', 9.5])\n"
     ]
    }
   ],
   "source": [
    "print(dicionario.keys())\n",
    "print(dicionario.values())"
   ]
  },
  {
   "cell_type": "code",
   "execution_count": 43,
   "metadata": {},
   "outputs": [
    {
     "ename": "KeyError",
     "evalue": "0",
     "output_type": "error",
     "traceback": [
      "\u001b[1;31m---------------------------------------------------------------------------\u001b[0m",
      "\u001b[1;31mKeyError\u001b[0m                                  Traceback (most recent call last)",
      "Cell \u001b[1;32mIn[43], line 1\u001b[0m\n\u001b[1;32m----> 1\u001b[0m \u001b[38;5;28mprint\u001b[39m(\u001b[43mdicionario\u001b[49m\u001b[43m \u001b[49m\u001b[43m[\u001b[49m\u001b[38;5;241;43m0\u001b[39;49m\u001b[43m]\u001b[49m [\u001b[38;5;241m0\u001b[39m])\n",
      "\u001b[1;31mKeyError\u001b[0m: 0"
     ]
    }
   ],
   "source": [
    "print(dicionario [0] [0])"
   ]
  },
  {
   "cell_type": "code",
   "execution_count": 44,
   "metadata": {},
   "outputs": [
    {
     "name": "stdout",
     "output_type": "stream",
     "text": [
      "{}\n"
     ]
    }
   ],
   "source": [
    "dicionario.clear()\n",
    "print(dicionario)"
   ]
  },
  {
   "cell_type": "markdown",
   "metadata": {},
   "source": [
    "## Exercício 1:                                                                                                                                                                           \n",
    "> Crie 3 dicionarios: matricula, aluno e diciplina. A matricula terá código da matricula, data_inscrição e curso; O aluno terá registro e nome; A diciplina terá registro, nome e professor.\n",
    "Ao final adicione os três dicionarios em uma tupla chamada escola."
   ]
  },
  {
   "cell_type": "code",
   "execution_count": 51,
   "metadata": {},
   "outputs": [],
   "source": [
    "matricula = { \n",
    "    'data_inscrição' : '10/01/2024',\n",
    "    'curso' : 'Analise de Desenvolvimento de Sistemas',\n",
    "}\n",
    "aluno = {\n",
    "    'nome' : 'Rodrigo Garro',\n",
    "    'registro' : '180224'\n",
    "}\n",
    "diciplina = {\n",
    "    'registro' : '123456',\n",
    "    'nome' : 'Gustavo',\n",
    "    'professor' : 'gustavo'\n",
    "}"
   ]
  },
  {
   "cell_type": "code",
   "execution_count": 56,
   "metadata": {},
   "outputs": [
    {
     "name": "stdout",
     "output_type": "stream",
     "text": [
      "10/01/2024\n",
      "Analise de Desenvolvimento de Sistemas\n",
      "Rodrigo Garro\n",
      "180224\n",
      "Gustavo\n",
      "123456\n",
      "gustavo\n"
     ]
    }
   ],
   "source": [
    "print(matricula['data_inscrição'])\n",
    "print(matricula['curso'])\n",
    "print(aluno['nome'])\n",
    "print(aluno['registro'])\n",
    "print(diciplina['nome'])\n",
    "print(diciplina['registro'])\n",
    "print(diciplina['professor'])"
   ]
  },
  {
   "cell_type": "code",
   "execution_count": 57,
   "metadata": {},
   "outputs": [
    {
     "name": "stdout",
     "output_type": "stream",
     "text": [
      "dict_values(['10/01/2024', 'Analise de Desenvolvimento de Sistemas'])\n",
      "dict_values(['Rodrigo Garro', '180224'])\n",
      "dict_values(['123456', 'Gustavo', 'gustavo'])\n"
     ]
    }
   ],
   "source": [
    "escola = (matricula,aluno,diciplina)\n",
    "for x in escola:\n",
    "    print(x.values())"
   ]
  },
  {
   "cell_type": "markdown",
   "metadata": {},
   "source": [
    "## Exercício 2;\n",
    "> Crie três dicionarios para as seguintes tabelas: vendedor; produto e venda. O vendedor terá registro, nome e admissão. O Produto terá o ID, nome e fabricante. A Venda terá reg_vendedor, id_produto e valor. Após a criação dos dicionários, adicionem a uma tupla chamada casas_baiano."
   ]
  },
  {
   "cell_type": "code",
   "execution_count": null,
   "metadata": {},
   "outputs": [],
   "source": [
    "verdedor = { \n",
    "    'registro' : '6748922',\n",
    "    'nome' : 'Cristian',\n",
    "    'admissão' : '30/04/2022'\n",
    "}\n",
    "produto = {\n",
    "    'nome' : 'oculos de sol',\n",
    "    'id' : '18860224',\n",
    "    'fabricante' : 'okley',\n",
    "}\n",
    "venda = {\n",
    "    'reg.vendedor' : '123456',\n",
    "    'nome' : 'Gustavo',\n",
    "    'professor' : 'gustavo'\n",
    "}"
   ]
  }
 ],
 "metadata": {
  "kernelspec": {
   "display_name": "Python 3",
   "language": "python",
   "name": "python3"
  },
  "language_info": {
   "codemirror_mode": {
    "name": "ipython",
    "version": 3
   },
   "file_extension": ".py",
   "mimetype": "text/x-python",
   "name": "python",
   "nbconvert_exporter": "python",
   "pygments_lexer": "ipython3",
   "version": "3.12.2"
  }
 },
 "nbformat": 4,
 "nbformat_minor": 2
}
