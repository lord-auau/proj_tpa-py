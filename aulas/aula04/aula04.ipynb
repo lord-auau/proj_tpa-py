{
 "cells": [
  {
   "cell_type": "markdown",
   "metadata": {},
   "source": [
    "## Aula 04- Introdução a Funções e Funções Lambda"
   ]
  },
  {
   "cell_type": "markdown",
   "metadata": {},
   "source": [
    "> Uma função é uma ação que realizado,atráces de parâmetros de entrada ou parâmetros vazios retornam uma rotina (código preestabelecido)."
   ]
  },
  {
   "cell_type": "code",
   "execution_count": 213,
   "metadata": {},
   "outputs": [],
   "source": [
    "def somar():\n",
    "    x=2\n",
    "    y=2\n",
    "    res = x + y\n",
    "    print(res)"
   ]
  },
  {
   "cell_type": "code",
   "execution_count": 214,
   "metadata": {},
   "outputs": [
    {
     "name": "stdout",
     "output_type": "stream",
     "text": [
      "4\n"
     ]
    }
   ],
   "source": [
    "somar()"
   ]
  },
  {
   "cell_type": "code",
   "execution_count": 215,
   "metadata": {},
   "outputs": [],
   "source": [
    "def adicao(x,y):\n",
    " res = x + y\n",
    " print(res)\n"
   ]
  },
  {
   "cell_type": "code",
   "execution_count": 216,
   "metadata": {},
   "outputs": [
    {
     "name": "stdout",
     "output_type": "stream",
     "text": [
      "4\n"
     ]
    }
   ],
   "source": [
    "adicao(2,2)"
   ]
  },
  {
   "cell_type": "code",
   "execution_count": 217,
   "metadata": {},
   "outputs": [],
   "source": [
    "def multiplicar():\n",
    "    x=2\n",
    "    y=2\n",
    "    res = x*y\n",
    "    print(res)"
   ]
  },
  {
   "cell_type": "code",
   "execution_count": 218,
   "metadata": {},
   "outputs": [
    {
     "name": "stdout",
     "output_type": "stream",
     "text": [
      "4\n"
     ]
    }
   ],
   "source": [
    "multiplicar()"
   ]
  },
  {
   "cell_type": "code",
   "execution_count": 219,
   "metadata": {},
   "outputs": [],
   "source": [
    "def subtracao():\n",
    "    x=2\n",
    "    y=2\n",
    "    res = x - y\n",
    "    print(res)"
   ]
  },
  {
   "cell_type": "code",
   "execution_count": 220,
   "metadata": {},
   "outputs": [
    {
     "name": "stdout",
     "output_type": "stream",
     "text": [
      "0\n"
     ]
    }
   ],
   "source": [
    "subtracao()"
   ]
  },
  {
   "cell_type": "code",
   "execution_count": 221,
   "metadata": {},
   "outputs": [],
   "source": [
    "def divisao():\n",
    "    x=2\n",
    "    y=2\n",
    "    res = x/y\n",
    "    print(res)"
   ]
  },
  {
   "cell_type": "code",
   "execution_count": 222,
   "metadata": {},
   "outputs": [
    {
     "name": "stdout",
     "output_type": "stream",
     "text": [
      "1.0\n"
     ]
    }
   ],
   "source": [
    "divisao()"
   ]
  },
  {
   "cell_type": "markdown",
   "metadata": {},
   "source": [
    "## Funçães Lambda"
   ]
  },
  {
   "cell_type": "markdown",
   "metadata": {},
   "source": [
    "> Uma função Lambda é uma forma rápida de criar funções ultilizando  ,emos recurso e quamtidade de comandos."
   ]
  },
  {
   "cell_type": "code",
   "execution_count": 223,
   "metadata": {},
   "outputs": [],
   "source": [
    "menos = lambda x,y: x-y"
   ]
  },
  {
   "cell_type": "code",
   "execution_count": 224,
   "metadata": {},
   "outputs": [
    {
     "name": "stdout",
     "output_type": "stream",
     "text": [
      "3\n"
     ]
    }
   ],
   "source": [
    "print(menos(5,2))"
   ]
  },
  {
   "cell_type": "code",
   "execution_count": 225,
   "metadata": {},
   "outputs": [],
   "source": [
    "delta = lambda a,b,c: (b*b)-4*a*c"
   ]
  },
  {
   "cell_type": "code",
   "execution_count": 226,
   "metadata": {},
   "outputs": [
    {
     "name": "stdout",
     "output_type": "stream",
     "text": [
      "25\n"
     ]
    }
   ],
   "source": [
    "print(delta(1,5,0))"
   ]
  },
  {
   "cell_type": "markdown",
   "metadata": {},
   "source": [
    "## Exercício\n",
    "> Crie um código chamado baskhara, ele deverá ter uma rotina que ao ser criada retornará x' e x\""
   ]
  },
  {
   "cell_type": "markdown",
   "metadata": {},
   "source": [
    "baskhara = lambda a,b: (-b+Math.sqrt(delta))/2*a and (-b-Math.sqrt(delta))/2*a"
   ]
  },
  {
   "cell_type": "code",
   "execution_count": 227,
   "metadata": {},
   "outputs": [],
   "source": [
    "def baskhara(a,b,c,x):\n",
    "    if(a==0):\n",
    "        res = 'impossivel calcular'\n",
    "    else:\n",
    "        delta = (b*b) - (4*a*c)\n",
    "        if(delta<0):\n",
    "            res = 'impossivel calcular'\n",
    "        else:\n",
    "            if(x==1):\n",
    "                res = (-b+Math.sqrt(delta))/(2*a)\n",
    "            if(x==2):\n",
    "                res = (-b-Math.sqrt(delta))/(2*a)\n",
    "    return res\n"
   ]
  },
  {
   "cell_type": "code",
   "execution_count": 228,
   "metadata": {},
   "outputs": [
    {
     "data": {
      "text/plain": [
       "'impossivel calcular'"
      ]
     },
     "execution_count": 228,
     "metadata": {},
     "output_type": "execute_result"
    }
   ],
   "source": [
    "baskhara(10,2,6,2)"
   ]
  },
  {
   "cell_type": "markdown",
   "metadata": {},
   "source": [
    "# Funções Map"
   ]
  },
  {
   "cell_type": "code",
   "execution_count": 229,
   "metadata": {},
   "outputs": [
    {
     "name": "stdout",
     "output_type": "stream",
     "text": [
      "[24.84, 31.06, 46.58, 62.11, 124.22]\n"
     ]
    }
   ],
   "source": [
    "kph = [40,50,75,100,200]\n",
    "mph = []\n",
    "for i in kph:\n",
    "    mph.append(round(i/1.61,2))\n",
    "print(mph)"
   ]
  },
  {
   "cell_type": "code",
   "execution_count": 230,
   "metadata": {},
   "outputs": [
    {
     "name": "stdout",
     "output_type": "stream",
     "text": [
      "[24.84, 31.06, 46.58, 62.11, 124.22]\n"
     ]
    }
   ],
   "source": [
    "mph2 = list(map(lambda x: round(x/1.61,2),kph))\n",
    "print(mph2)"
   ]
  },
  {
   "cell_type": "markdown",
   "metadata": {},
   "source": [
    "### Exercício 2:\n",
    "> Crie um progama que calcule 5 valores dentro de um alista chamada celsius. Crie uma novalista vazia chamada fahrenheit e armazene a conversão dos valores de calsius ultilizando lambda com map. No final exiba o valor da lista fahrenheit."
   ]
  },
  {
   "cell_type": "code",
   "execution_count": 235,
   "metadata": {},
   "outputs": [
    {
     "name": "stdout",
     "output_type": "stream",
     "text": [
      "[2, 4, 6, 8, 10]\n"
     ]
    }
   ],
   "source": [
    "celsius = [2,4,6,8,10]\n",
    "fahrenheit = []\n",
    "for c in celsius:\n",
    "    fahrenheit.append(round(c*1,8+32))\n",
    "print(fahrenheit)"
   ]
  },
  {
   "cell_type": "code",
   "execution_count": 236,
   "metadata": {},
   "outputs": [
    {
     "name": "stdout",
     "output_type": "stream",
     "text": [
      "[2, 4, 6, 8, 10]\n"
     ]
    }
   ],
   "source": [
    "fahrenheit = list(map(lambda c: round(c*1,8+32),celsius))\n",
    "print(fahrenheit)"
   ]
  }
 ],
 "metadata": {
  "kernelspec": {
   "display_name": "Python 3",
   "language": "python",
   "name": "python3"
  },
  "language_info": {
   "codemirror_mode": {
    "name": "ipython",
    "version": 3
   },
   "file_extension": ".py",
   "mimetype": "text/x-python",
   "name": "python",
   "nbconvert_exporter": "python",
   "pygments_lexer": "ipython3",
   "version": "3.12.2"
  }
 },
 "nbformat": 4,
 "nbformat_minor": 2
}
