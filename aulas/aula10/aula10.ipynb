{
 "cells": [
  {
   "cell_type": "markdown",
   "metadata": {},
   "source": [
    "## Introdução a Árvore Binária"
   ]
  },
  {
   "cell_type": "markdown",
   "metadata": {},
   "source": [
    "Árvore Binárias são essênciais para organização de dadso de forma alfábetica ou numeral. Através de nós um valor é comparada ao nó inicial. Após verificar se  ovalor é maior ou menor que o nó ele será reposicionado na memória a esquerda (menor) ou a direita (maior) que o nó inicial. Assim possibilita a organização dos dados dentro de uma lista como o método .sort(). Após isso ele se torna um nó podendo ultilizar o método dentro dele mesmo, chamado de recursivivade."
   ]
  },
  {
   "cell_type": "markdown",
   "metadata": {},
   "source": [
    "> Inserido classe Nó "
   ]
  },
  {
   "cell_type": "code",
   "execution_count": 69,
   "metadata": {},
   "outputs": [],
   "source": [
    "class No:\n",
    "  def __init__(self, valor):\n",
    "    self.esquerda = None\n",
    "    self.direita = None\n",
    "    self.valor = valor"
   ]
  },
  {
   "cell_type": "markdown",
   "metadata": {},
   "source": [
    "> Inserindo o método inserir"
   ]
  },
  {
   "cell_type": "code",
   "execution_count": 70,
   "metadata": {},
   "outputs": [],
   "source": [
    "def inserir(raiz, chave):\n",
    "    if raiz is None:\n",
    "        return No(chave)\n",
    "    else:\n",
    "      if chave < raiz.valor:\n",
    "          raiz.esquerda = inserir(raiz.esquerda, chave)\n",
    "      else:\n",
    "          raiz.direita = inserir(raiz.direita, chave)\n",
    "    return raiz"
   ]
  },
  {
   "cell_type": "markdown",
   "metadata": {},
   "source": [
    "> Método de Ordenação"
   ]
  },
  {
   "cell_type": "code",
   "execution_count": 71,
   "metadata": {},
   "outputs": [],
   "source": [
    "def ordenar(raiz):\n",
    "    if raiz:\n",
    "        ordenar(raiz.esquerda )\n",
    "        print(raiz.valor, end=\" \")\n",
    "        ordenar(raiz.direita )"
   ]
  },
  {
   "cell_type": "markdown",
   "metadata": {},
   "source": [
    "> Método Principal"
   ]
  },
  {
   "cell_type": "code",
   "execution_count": 72,
   "metadata": {},
   "outputs": [
    {
     "name": "stdout",
     "output_type": "stream",
     "text": [
      "Em ordem:  0 1 2 7 8 9 10 \n"
     ]
    }
   ],
   "source": [
    "if __name__ == '__main__':\n",
    " raiz = None\n",
    " valores = [10,7,8,2,1,0,9,]\n",
    "    \n",
    "for x in valores:\n",
    "    raiz = inserir(raiz, x)\n",
    "        \n",
    "print(\"Em ordem: \", end=\" \")\n",
    "ordenar(raiz)\n",
    "print()\n",
    "\n"
   ]
  },
  {
   "cell_type": "markdown",
   "metadata": {},
   "source": [
    "> Inserindo Valores Aleatórios"
   ]
  },
  {
   "cell_type": "code",
   "execution_count": 73,
   "metadata": {},
   "outputs": [
    {
     "name": "stdout",
     "output_type": "stream",
     "text": [
      "10\n"
     ]
    }
   ],
   "source": [
    "import random\n",
    "aleatorio = random.randint(1,10)\n",
    "print(aleatorio)"
   ]
  },
  {
   "cell_type": "markdown",
   "metadata": {},
   "source": [
    "## Exercício 1:\n",
    "> Crie um método que insira 10 valores aleatórios de  0 a 100. Após isso organize-os e mostre-os. "
   ]
  },
  {
   "cell_type": "code",
   "execution_count": 89,
   "metadata": {},
   "outputs": [
    {
     "name": "stdout",
     "output_type": "stream",
     "text": [
      "1\n"
     ]
    }
   ],
   "source": [
    "import random\n",
    "aleatorio = random.randint(1,100)\n",
    "print(aleatorio)"
   ]
  }
 ],
 "metadata": {
  "kernelspec": {
   "display_name": "Python 3",
   "language": "python",
   "name": "python3"
  },
  "language_info": {
   "codemirror_mode": {
    "name": "ipython",
    "version": 3
   },
   "file_extension": ".py",
   "mimetype": "text/x-python",
   "name": "python",
   "nbconvert_exporter": "python",
   "pygments_lexer": "ipython3",
   "version": "3.12.2"
  }
 },
 "nbformat": 4,
 "nbformat_minor": 2
}
